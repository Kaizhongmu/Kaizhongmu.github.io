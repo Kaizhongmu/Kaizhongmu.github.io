{
 "cells": [
  {
   "cell_type": "code",
   "execution_count": 1,
   "metadata": {},
   "outputs": [],
   "source": [
    "import urllib.parse"
   ]
  },
  {
   "cell_type": "code",
   "execution_count": 2,
   "metadata": {},
   "outputs": [],
   "source": [
    "def fblink(link):\n",
    "    base_url = \"https://www.facebook.com/sharer/sharer.php\"\n",
    "    encoded_url = urllib.parse.quote(link, safe='')\n",
    "    full_url = f\"{base_url}?u={encoded_url}&amp;src=sdkpreparse\"\n",
    "    return full_url"
   ]
  },
  {
   "cell_type": "code",
   "execution_count": 3,
   "metadata": {},
   "outputs": [],
   "source": [
    "link = \"https://mrislambd.github.io/dsandml/knn/\""
   ]
  },
  {
   "cell_type": "code",
   "execution_count": 4,
   "metadata": {},
   "outputs": [
    {
     "name": "stdout",
     "output_type": "stream",
     "text": [
      "<div id=\"fb-root\"></div>\n",
      "<script async defer crossorigin=\"anonymous\"\n",
      " src=\"https://connect.facebook.net/en_US/sdk.js#xfbml=1&version=v20.0\"></script>\n",
      " \n",
      "<div class=\"share-buttons\">\n",
      "<div class=\"fb-share-button\" data-href=\"https://mrislambd.github.io/dsandml/knn/\"\n",
      "data-layout=\"button_count\" data-size=\"small\"><a target=\"_blank\" \n",
      " href=\"https://www.facebook.com/sharer/sharer.php?u=https%3A%2F%2Fmrislambd.github.io%2Fdsandml%2Fknn%2F&amp;src=sdkpreparse\" \n",
      " class=\"fb-xfbml-parse-ignore\">Share</a></div>\n",
      "\n",
      "<script src=\"https://platform.linkedin.com/in.js\" type=\"text/javascript\">lang: en_US</script>\n",
      "<script type=\"IN/Share\" data-url=\"https://mrislambd.github.io/dsandml/knn/\"></script> \n",
      " \n",
      "<a href=\"https://twitter.com/share?ref_src=twsrc%5Etfw\" class=\"twitter-share-button\" \n",
      " data-url=\"https://mrislambd.github.io/dsandml/knn/\" data-show-count=\"true\">Tweet</a>\n",
      "<script async src=\"https://platform.twitter.com/widgets.js\" charset=\"utf-8\"></script>\n",
      "</div>\n",
      "\n",
      "<div class=\"fb-comments\" data-href=\"https://mrislambd.github.io/dsandml/knn/\"\n",
      " data-width=\"\" data-numposts=\"5\"></div>\n"
     ]
    }
   ],
   "source": [
    "print('<div id=\"fb-root\"></div>')\n",
    "print('<script async defer crossorigin=\"anonymous\"\\n src=\"https://connect.facebook.net/en_US/sdk.js#xfbml=1&version=v20.0\"></script>')\n",
    "print(' ')\n",
    "print('<div class=\"share-buttons\">')\n",
    "print('<div class=\"fb-share-button\" data-href=\"{}\"'.format(link))\n",
    "print('data-layout=\"button_count\" data-size=\"small\"><a target=\"_blank\" \\n href=\"{}\" \\n class=\"fb-xfbml-parse-ignore\">Share</a></div>'.format(fblink(link)))\n",
    "print('')\n",
    "print('<script src=\"https://platform.linkedin.com/in.js\" type=\"text/javascript\">lang: en_US</script>')\n",
    "print('<script type=\"IN/Share\" data-url=\"{}\"></script> '.format(link))\n",
    "print(' ')\n",
    "print('<a href=\"https://twitter.com/share?ref_src=twsrc%5Etfw\" class=\"twitter-share-button\" \\n data-url=\"{}\" data-show-count=\"true\">Tweet</a>'.format(link))\n",
    "print('<script async src=\"https://platform.twitter.com/widgets.js\" charset=\"utf-8\"></script>')\n",
    "print('</div>')\n",
    "print('')\n",
    "print('<div class=\"fb-comments\" data-href=\"{}\"\\n data-width=\"\" data-numposts=\"5\"></div>'.format(link))"
   ]
  },
  {
   "cell_type": "code",
   "execution_count": null,
   "metadata": {},
   "outputs": [],
   "source": []
  }
 ],
 "metadata": {
  "kernelspec": {
   "display_name": "pytorch-env",
   "language": "python",
   "name": "python3"
  },
  "language_info": {
   "codemirror_mode": {
    "name": "ipython",
    "version": 3
   },
   "file_extension": ".py",
   "mimetype": "text/x-python",
   "name": "python",
   "nbconvert_exporter": "python",
   "pygments_lexer": "ipython3",
   "version": "3.11.7"
  }
 },
 "nbformat": 4,
 "nbformat_minor": 2
}
